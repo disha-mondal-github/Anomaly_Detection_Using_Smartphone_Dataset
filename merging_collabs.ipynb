{
 "cells": [
  {
   "cell_type": "code",
   "execution_count": 1,
   "id": "37ed10f2-4634-4808-b37a-0317ff7377cd",
   "metadata": {},
   "outputs": [
    {
     "name": "stdout",
     "output_type": "stream",
     "text": [
      "Requirement already satisfied: nbformat in d:\\anaconda_new\\envs\\pcos_app\\lib\\site-packages (5.10.4)\n",
      "Requirement already satisfied: fastjsonschema>=2.15 in d:\\anaconda_new\\envs\\pcos_app\\lib\\site-packages (from nbformat) (2.20.0)\n",
      "Requirement already satisfied: jsonschema>=2.6 in d:\\anaconda_new\\envs\\pcos_app\\lib\\site-packages (from nbformat) (4.23.0)\n",
      "Requirement already satisfied: jupyter-core!=5.0.*,>=4.12 in d:\\anaconda_new\\envs\\pcos_app\\lib\\site-packages (from nbformat) (5.7.2)\n",
      "Requirement already satisfied: traitlets>=5.1 in d:\\anaconda_new\\envs\\pcos_app\\lib\\site-packages (from nbformat) (5.14.3)\n",
      "Requirement already satisfied: attrs>=22.2.0 in d:\\anaconda_new\\envs\\pcos_app\\lib\\site-packages (from jsonschema>=2.6->nbformat) (24.2.0)\n",
      "Requirement already satisfied: jsonschema-specifications>=2023.03.6 in d:\\anaconda_new\\envs\\pcos_app\\lib\\site-packages (from jsonschema>=2.6->nbformat) (2023.7.1)\n",
      "Requirement already satisfied: referencing>=0.28.4 in d:\\anaconda_new\\envs\\pcos_app\\lib\\site-packages (from jsonschema>=2.6->nbformat) (0.30.2)\n",
      "Requirement already satisfied: rpds-py>=0.7.1 in d:\\anaconda_new\\envs\\pcos_app\\lib\\site-packages (from jsonschema>=2.6->nbformat) (0.10.6)\n",
      "Requirement already satisfied: platformdirs>=2.5 in d:\\anaconda_new\\envs\\pcos_app\\lib\\site-packages (from jupyter-core!=5.0.*,>=4.12->nbformat) (3.10.0)\n",
      "Requirement already satisfied: pywin32>=300 in d:\\anaconda_new\\envs\\pcos_app\\lib\\site-packages (from jupyter-core!=5.0.*,>=4.12->nbformat) (305.1)\n",
      "Note: you may need to restart the kernel to use updated packages.\n"
     ]
    }
   ],
   "source": [
    "pip install nbformat"
   ]
  },
  {
   "cell_type": "code",
   "execution_count": 4,
   "id": "cf72cff6-7a48-482c-951a-3c8a4da5eab7",
   "metadata": {},
   "outputs": [
    {
     "name": "stdout",
     "output_type": "stream",
     "text": [
      "Collecting uuid\n",
      "  Downloading uuid-1.30.tar.gz (5.8 kB)\n",
      "  Preparing metadata (setup.py): started\n",
      "  Preparing metadata (setup.py): finished with status 'done'\n",
      "Building wheels for collected packages: uuid\n",
      "  Building wheel for uuid (setup.py): started\n",
      "  Building wheel for uuid (setup.py): finished with status 'done'\n",
      "  Created wheel for uuid: filename=uuid-1.30-py3-none-any.whl size=6485 sha256=1906664d00c0109c142b4c2f84d7b3d3ee7cf7b12c1ab34b83f7f8ec21043069\n",
      "  Stored in directory: c:\\users\\disha\\appdata\\local\\pip\\cache\\wheels\\ed\\08\\9e\\f0a977dfe55051a07e21af89200125d65f1efa60cbac61ed88\n",
      "Successfully built uuid\n",
      "Installing collected packages: uuid\n",
      "Successfully installed uuid-1.30\n",
      "Note: you may need to restart the kernel to use updated packages.\n"
     ]
    }
   ],
   "source": [
    "pip install uuid"
   ]
  },
  {
   "cell_type": "code",
   "execution_count": 1,
   "id": "5ddf9b90-3084-4fb3-a847-71dcc1b17cea",
   "metadata": {},
   "outputs": [
    {
     "name": "stdout",
     "output_type": "stream",
     "text": [
      "Merged notebook with all new cell IDs!\n"
     ]
    }
   ],
   "source": [
    "import nbformat\n",
    "import uuid\n",
    "\n",
    "# List of notebook filenames\n",
    "notebooks = [\"Collab-Phase-1(Data Preparation).ipynb\", \"Collab-Phase-2( Statistical Modelling).ipynb\", \"Collab-Phase-3( Machine Learning).ipynb\"]\n",
    "merged_notebook = nbformat.v4.new_notebook()\n",
    "\n",
    "for notebook_file in notebooks:\n",
    "    with open(notebook_file, 'r', encoding='utf-8') as f:\n",
    "        notebook = nbformat.read(f, as_version=4)\n",
    "        for cell in notebook.cells:\n",
    "            cell['id'] = str(uuid.uuid4())  # Reset all cell IDs\n",
    "        merged_notebook.cells.extend(notebook.cells)\n",
    "\n",
    "with open(\"final_notebook.ipynb\", 'w', encoding='utf-8') as f:\n",
    "    nbformat.write(merged_notebook, f)\n",
    "\n",
    "print(\"Merged notebook with all new cell IDs!\")"
   ]
  },
  {
   "cell_type": "code",
   "execution_count": null,
   "id": "f10a1845-6665-4cc7-a66b-da210a23f505",
   "metadata": {},
   "outputs": [],
   "source": []
  }
 ],
 "metadata": {
  "kernelspec": {
   "display_name": "Python 3 (ipykernel)",
   "language": "python",
   "name": "python3"
  },
  "language_info": {
   "codemirror_mode": {
    "name": "ipython",
    "version": 3
   },
   "file_extension": ".py",
   "mimetype": "text/x-python",
   "name": "python",
   "nbconvert_exporter": "python",
   "pygments_lexer": "ipython3",
   "version": "3.10.15"
  }
 },
 "nbformat": 4,
 "nbformat_minor": 5
}
